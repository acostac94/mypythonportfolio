{
  "nbformat": 4,
  "nbformat_minor": 0,
  "metadata": {
    "colab": {
      "provenance": [],
      "authorship_tag": "ABX9TyNVW0yfa9urf0xnRZ146cKB",
      "include_colab_link": true
    },
    "kernelspec": {
      "name": "python3",
      "display_name": "Python 3"
    },
    "language_info": {
      "name": "python"
    }
  },
  "cells": [
    {
      "cell_type": "markdown",
      "metadata": {
        "id": "view-in-github",
        "colab_type": "text"
      },
      "source": [
        "<a href=\"https://colab.research.google.com/github/acostac94/mypythonportfolio/blob/main/conversor_distancia_km_mil.ipynb\" target=\"_parent\"><img src=\"https://colab.research.google.com/assets/colab-badge.svg\" alt=\"Open In Colab\"/></a>"
      ]
    },
    {
      "cell_type": "markdown",
      "source": [
        "# **CONVERSOR DE DISTÂNCIA: QUILÔMETRO / MILHA**"
      ],
      "metadata": {
        "id": "3l5sbmugbL_D"
      }
    },
    {
      "cell_type": "markdown",
      "source": [
        ">Algoritmo de conversão de distância fornecida pelo usuário. Podendo esolher entre a conversão de quilômetro para milha ou de milha para quilômetro.\n",
        "\n",
        "> Usuário deve fornecer um valor numérico, com ou sem casa decimais. Valor será convertido para uma dado do tipo float pelo código.\n",
        "\n",
        "> Usuário fornece a unidade de medida original da distância fornecida anteriormente, se é quilômetro (km) ou milha (mil).\n",
        "\n",
        "> Conversão ocorre automaticamente após a interação das variáveis fornecidas.\n",
        "\n",
        "> Caso o usuário insira dados inválidos em qualquer uma das etapas, o código imprime uma mensagem de alerta e para."
      ],
      "metadata": {
        "id": "lQyKlqTbcY_x"
      }
    },
    {
      "cell_type": "code",
      "execution_count": null,
      "metadata": {
        "colab": {
          "base_uri": "https://localhost:8080/"
        },
        "id": "CaM5_HwYS22K",
        "outputId": "36251740-30e1-4f61-c559-d57034ed6bed"
      },
      "outputs": [
        {
          "output_type": "stream",
          "name": "stdout",
          "text": [
            "Digite a sua distância: op\n",
            "Valor inválido. Digite um número válido.\n",
            "Digite a sua distância: 55\n",
            "Digite a unidade original (km/mil): km\n",
            "A distância em milhas é: 88.55 milhas\n"
          ]
        }
      ],
      "source": [
        "# Criar um conversor de unidade de distância interativo com o usuário\n",
        "\n",
        "# Primeiro solicitamos ao usuário que insira um VALOR de distância a ser convertido\n",
        "# O loop while true insiste para o usuário inserir um valor de entrada NUMERICO\n",
        "while True:\n",
        "\n",
        "  # Tenta converter a entrada do usuário para float.\n",
        "  try:\n",
        "    distancia = float(input(\"Digite a sua distância: \"))\n",
        "    # Se a distância for um número, break o while\n",
        "    break\n",
        "    ''' Se ocorrer um erro ValueError (ou seja, se a entrada não puder ser convertida em número),\n",
        "    o código dentro do bloco except é executado. Ele imprime uma mensagem de erro e o loop continua.\n",
        "    '''\n",
        "  except ValueError:\n",
        "    print(\"Valor inválido. Digite um número válido.\")\n",
        "\n",
        "# Em seguida, solicitamos ao usuário que insira a unidade a ser convertida (km ou mil)\n",
        "unidade_original = input(\"Digite a unidade original (km/mil): \")\n",
        "\n",
        "# Se a unidade original for km, converte para milha e imprime resultado\n",
        "if unidade_original == \"km\":\n",
        "  distancia_convertida = distancia * 1.61\n",
        "  print(f\"A distância em milhas é: {distancia_convertida:.2f} milhas\")\n",
        "\n",
        "  # Se a unidade original for milha, converte para km e imprime resultado\n",
        "elif unidade_original == \"mil\":\n",
        "  distancia_convertida = distancia / 1.61\n",
        "  print(f\"A distância em quilômetros é: {distancia_convertida:.2f} quilômetros\")\n",
        "\n",
        "  # Caso o usuário não forneça a unidade de medida correta, imprime alerta\n",
        "else:\n",
        "  print(\"Unidade inválida. Digite 'km' ou 'mil'.\")\n"
      ]
    }
  ]
}