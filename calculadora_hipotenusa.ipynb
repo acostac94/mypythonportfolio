{
  "nbformat": 4,
  "nbformat_minor": 0,
  "metadata": {
    "colab": {
      "provenance": [],
      "authorship_tag": "ABX9TyO9/ipFLXD28186rFMMxgOM",
      "include_colab_link": true
    },
    "kernelspec": {
      "name": "python3",
      "display_name": "Python 3"
    },
    "language_info": {
      "name": "python"
    }
  },
  "cells": [
    {
      "cell_type": "markdown",
      "metadata": {
        "id": "view-in-github",
        "colab_type": "text"
      },
      "source": [
        "<a href=\"https://colab.research.google.com/github/acostac94/mypythonportfolio/blob/main/calculadora_hipotenusa.ipynb\" target=\"_parent\"><img src=\"https://colab.research.google.com/assets/colab-badge.svg\" alt=\"Open In Colab\"/></a>"
      ]
    },
    {
      "cell_type": "markdown",
      "source": [
        "# **CALCULADORA DE HIPOTENUZA**"
      ],
      "metadata": {
        "id": "ZCnNbX3oQsLA"
      }
    },
    {
      "cell_type": "markdown",
      "source": [
        ">Calculadora interatuva de hipotenusa.\n",
        "\n",
        ">Algoritmo solicita que o usuário forneça dados válidos de cateto oposto (a) e cateto adjacente (b).\n",
        "\n",
        ">Valor fonercido é convertido para dado do tipo float, se for fornecido string o programa insiste em solicitar um valor numérico.\n",
        "\n",
        ">Resultado é a hipotenusa calculada"
      ],
      "metadata": {
        "id": "eYDIC64PRIuf"
      }
    },
    {
      "cell_type": "code",
      "execution_count": 4,
      "metadata": {
        "colab": {
          "base_uri": "https://localhost:8080/"
        },
        "id": "5WGrDUQCN577",
        "outputId": "3162130a-c717-4e3b-8ab0-2975760f5b1e"
      },
      "outputs": [
        {
          "output_type": "stream",
          "name": "stdout",
          "text": [
            "Digite o valor do cateto oposto: xx\n",
            "Digite apenas números\n",
            "Digite o valor do cateto oposto: 5\n",
            "Digite o valor do cateto adjacente: 10\n",
            "A hipotenusa vai medir 50.95\n"
          ]
        }
      ],
      "source": [
        "# Calculadora interativa de hipotenusa\n",
        "\n",
        "while True: # Este loop solicita que o usuário insira valor numérico\n",
        "    try:\n",
        "      a = float(input('Digite o valor do cateto oposto: '))\n",
        "      b = float(input('Digite o valor do cateto adjacente: '))\n",
        "    except ValueError: # Se o valor inserido pelo usuário não for numérico, o except imprime alerta e o while pede novamente\n",
        "        print('Digite apenas números')\n",
        "    else:\n",
        "      c = a ** 2 + b ** 2 ** 0.5\n",
        "      print('A hipotenusa vai medir {:.2f}'.format(c))\n",
        "      break"
      ]
    }
  ]
}