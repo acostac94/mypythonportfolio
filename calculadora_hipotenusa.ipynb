{
  "nbformat": 4,
  "nbformat_minor": 0,
  "metadata": {
    "colab": {
      "provenance": [],
      "authorship_tag": "ABX9TyNteKOL/260za5BKa79TgGU",
      "include_colab_link": true
    },
    "kernelspec": {
      "name": "python3",
      "display_name": "Python 3"
    },
    "language_info": {
      "name": "python"
    }
  },
  "cells": [
    {
      "cell_type": "markdown",
      "metadata": {
        "id": "view-in-github",
        "colab_type": "text"
      },
      "source": [
        "<a href=\"https://colab.research.google.com/github/acostac94/mypythonportfolio/blob/main/calculadora_hipotenusa.ipynb\" target=\"_parent\"><img src=\"https://colab.research.google.com/assets/colab-badge.svg\" alt=\"Open In Colab\"/></a>"
      ]
    },
    {
      "cell_type": "markdown",
      "source": [
        "# **CALCULADORA DE HIPOTENUZA**"
      ],
      "metadata": {
        "id": "ZCnNbX3oQsLA"
      }
    },
    {
      "cell_type": "markdown",
      "source": [
        ">Calculadora interatuva de hipotenusa.\n",
        "\n",
        ">Algoritmo solicita que o usuário forneça dados válidos de cateto oposto (a) e cateto adjacente (b).\n",
        "\n",
        ">Valor fonercido é convertido para dado do tipo float, se for fornecido string o programa insiste em solicitar um valor numérico.\n",
        "\n",
        ">Resultado é a hipotenusa calculada"
      ],
      "metadata": {
        "id": "eYDIC64PRIuf"
      }
    },
    {
      "cell_type": "code",
      "execution_count": null,
      "metadata": {
        "colab": {
          "base_uri": "https://localhost:8080/"
        },
        "id": "5WGrDUQCN577",
        "outputId": "0df6ab07-43f3-4f5e-d398-caa751af974e"
      },
      "outputs": [
        {
          "output_type": "stream",
          "name": "stdout",
          "text": [
            "Digite o valor do cateto oposto: 5\n",
            "Digite o valor do cateto adjacente: 7\n",
            "A hipotenusa vai medir 8.60\n"
          ]
        }
      ],
      "source": [
        "# Calculadora interativa de hipotenusa\n",
        "\n",
        "while True: # Este loop solicita que o usuário insira valor numérico\n",
        "    try:\n",
        "      a = float(input('Digite o valor do cateto oposto: '))\n",
        "      b = float(input('Digite o valor do cateto adjacente: '))\n",
        "      break\n",
        "    except ValueError: # Se o valor inserido pelo usuário não for numérico, o except imprime alerta e o while pede novamente\n",
        "        print('Digite apenas números')\n",
        "\n",
        "c = a ** 2 + b ** 2 ** 0.5\n",
        "\n",
        "print('A hipotenusa vai medir {:.2f}'.format(c))"
      ]
    }
  ]
}