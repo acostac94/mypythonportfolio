{
  "nbformat": 4,
  "nbformat_minor": 0,
  "metadata": {
    "colab": {
      "provenance": [],
      "authorship_tag": "ABX9TyO3IIkYAZGfk2Qv3wdOMTmY",
      "include_colab_link": true
    },
    "kernelspec": {
      "name": "python3",
      "display_name": "Python 3"
    },
    "language_info": {
      "name": "python"
    }
  },
  "cells": [
    {
      "cell_type": "markdown",
      "metadata": {
        "id": "view-in-github",
        "colab_type": "text"
      },
      "source": [
        "<a href=\"https://colab.research.google.com/github/acostac94/mypythonportfolio/blob/main/calculadora_hipotenusa.ipynb\" target=\"_parent\"><img src=\"https://colab.research.google.com/assets/colab-badge.svg\" alt=\"Open In Colab\"/></a>"
      ]
    },
    {
      "cell_type": "markdown",
      "source": [
        "# **CALCULADORA DE HIPOTENUZA**"
      ],
      "metadata": {
        "id": "ZCnNbX3oQsLA"
      }
    },
    {
      "cell_type": "markdown",
      "source": [
        ">Calculadora interatuva de hipotenusa.\n",
        "\n",
        ">Algoritmo solicita que o usuário forneça dados válidos de cateto oposto (a) e cateto adjacente (b).\n",
        "\n",
        ">Valor fonercido é convertido para dado do tipo float, se for fornecido string o programa insiste em solicitar um valor numérico.\n",
        "\n",
        ">Resultado é a hipotenusa calculada"
      ],
      "metadata": {
        "id": "eYDIC64PRIuf"
      }
    },
    {
      "cell_type": "code",
      "execution_count": null,
      "metadata": {
        "colab": {
          "base_uri": "https://localhost:8080/"
        },
        "id": "5WGrDUQCN577",
        "outputId": "8ea9bbce-7a66-4dff-fd9a-3b4aab5838be"
      },
      "outputs": [
        {
          "output_type": "stream",
          "name": "stdout",
          "text": [
            "Digite o valor do cateto oposto: x\n",
            "Digite apenas números\n",
            "Digite o valor do cateto oposto: 5\n",
            "Digite o valor do cateto adjacente: 9\n",
            "A hipotenusa vai medir 10.30\n"
          ]
        }
      ],
      "source": [
        "# Calculadora interativa de hipotenusa\n",
        "\n",
        "while True: # Este loop garante o funcionamento do código até o seu objetivo final\n",
        "\n",
        "  # Queremos que o usuário insira apenas valores numéricos que serão convertidos para float\n",
        "    try:\n",
        "      a = float(input('Digite o valor do cateto oposto: '))\n",
        "      b = float(input('Digite o valor do cateto adjacente: '))\n",
        "\n",
        "    # Se o usuário inserir um valor que não seja numérico vai gerar um \"ValueError\" e aciona nossa exceção\n",
        "    except ValueError:\n",
        "\n",
        "      # Caso haja exceção, imprimir mensagem de alerta e código solicita novamente\n",
        "        print('Digite apenas números')\n",
        "\n",
        "    # O \"else\" garante a continuidade caso NÃO HAJA exceção de \"ValueError\"\n",
        "    else:\n",
        "\n",
        "      # Ocorrendo a condição do \"try\", o algoritmo calcula a hipotenusa e imprime resultado\n",
        "      c = (a ** 2 + b ** 2) ** 0.5\n",
        "\n",
        "      print('A hipotenusa vai medir {:.2f}'.format(c))\n",
        "\n",
        "      break # Paramos o código com um resultado válido"
      ]
    }
  ]
}